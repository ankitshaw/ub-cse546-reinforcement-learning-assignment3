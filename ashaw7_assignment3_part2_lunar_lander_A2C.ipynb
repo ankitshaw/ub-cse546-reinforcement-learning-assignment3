{
 "cells": [
  {
   "cell_type": "code",
   "execution_count": 10,
   "metadata": {},
   "outputs": [
    {
     "name": "stdout",
     "output_type": "stream",
     "text": [
      "Collecting mujoco\n",
      "  Downloading mujoco-2.3.0-cp310-cp310-manylinux_2_17_x86_64.manylinux2014_x86_64.whl (3.9 MB)\n",
      "\u001b[2K     \u001b[90m━━━━━━━━━━━━━━━━━━━━━━━━━━━━━━━━━━━━━━━━\u001b[0m \u001b[32m3.9/3.9 MB\u001b[0m \u001b[31m30.7 MB/s\u001b[0m eta \u001b[36m0:00:00\u001b[0m00:01\u001b[0m00:01\u001b[0m\n",
      "\u001b[?25hRequirement already satisfied: numpy in /home/codespace/.local/lib/python3.10/site-packages (from mujoco) (1.23.4)\n",
      "Collecting absl-py\n",
      "  Downloading absl_py-1.3.0-py3-none-any.whl (124 kB)\n",
      "\u001b[2K     \u001b[90m━━━━━━━━━━━━━━━━━━━━━━━━━━━━━━━━━━━━━━━\u001b[0m \u001b[32m124.6/124.6 kB\u001b[0m \u001b[31m5.8 MB/s\u001b[0m eta \u001b[36m0:00:00\u001b[0m\n",
      "\u001b[?25hCollecting glfw\n",
      "  Downloading glfw-2.5.5-py2.py27.py3.py30.py31.py32.py33.py34.py35.py36.py37.py38-none-manylinux2014_x86_64.whl (207 kB)\n",
      "\u001b[2K     \u001b[90m━━━━━━━━━━━━━━━━━━━━━━━━━━━━━━━━━━━━━━━\u001b[0m \u001b[32m207.5/207.5 kB\u001b[0m \u001b[31m8.8 MB/s\u001b[0m eta \u001b[36m0:00:00\u001b[0m\n",
      "\u001b[?25hCollecting pyopengl\n",
      "  Downloading PyOpenGL-3.1.6-py3-none-any.whl (2.4 MB)\n",
      "\u001b[2K     \u001b[90m━━━━━━━━━━━━━━━━━━━━━━━━━━━━━━━━━━━━━━━━\u001b[0m \u001b[32m2.4/2.4 MB\u001b[0m \u001b[31m40.0 MB/s\u001b[0m eta \u001b[36m0:00:00\u001b[0m:00:01\u001b[0m\n",
      "\u001b[?25hInstalling collected packages: pyopengl, glfw, absl-py, mujoco\n",
      "Successfully installed absl-py-1.3.0 glfw-2.5.5 mujoco-2.3.0 pyopengl-3.1.6\n",
      "\n",
      "\u001b[1m[\u001b[0m\u001b[34;49mnotice\u001b[0m\u001b[1;39;49m]\u001b[0m\u001b[39;49m A new release of pip available: \u001b[0m\u001b[31;49m22.3\u001b[0m\u001b[39;49m -> \u001b[0m\u001b[32;49m22.3.1\u001b[0m\n",
      "\u001b[1m[\u001b[0m\u001b[34;49mnotice\u001b[0m\u001b[1;39;49m]\u001b[0m\u001b[39;49m To update, run: \u001b[0m\u001b[32;49mpython -m pip install --upgrade pip\u001b[0m\n"
     ]
    }
   ],
   "source": [
    "! pip install mujoco"
   ]
  },
  {
   "cell_type": "code",
   "execution_count": 1,
   "metadata": {},
   "outputs": [],
   "source": [
    "import torch.nn.functional as F\n",
    "import torch \n",
    "from torch import nn\n",
    "import torch.optim as optim\n",
    "import torchvision.transforms as T\n",
    "\n",
    "from torch.distributions import Categorical\n",
    "import numpy as np\n",
    "import pandas as pd\n",
    "import gym\n",
    "\n",
    "from collections import deque\n",
    "from PIL import Image\n",
    "from tqdm import tqdm\n",
    "\n",
    "import matplotlib.pyplot as plt"
   ]
  },
  {
   "cell_type": "code",
   "execution_count": 15,
   "metadata": {},
   "outputs": [],
   "source": [
    "class Actor(nn.Module):\n",
    "    def __init__(self, input_size, output_size):\n",
    "        super(Actor, self).__init__()\n",
    "        self.linear1 = nn.Linear(in_features=input_size, out_features=256)\n",
    "        # self.linear2 = nn.Linear(in_features=128, out_features=256)\n",
    "        self.linear3 = nn.Linear(in_features=256, out_features=output_size)\n",
    "        self.relu = nn.ReLU()\n",
    "        self.softmax = nn.Softmax()\n",
    "        # torch.nn.init.xavier_uniform(self.linear1.weight)\n",
    "        # torch.nn.init.xavier_uniform(self.linear2.weight)\n",
    "        # torch.nn.init.xavier_uniform(self.linear3.weight)\n",
    "\n",
    "    def forward(self, x):\n",
    "        x = self.relu(self.linear1(x))\n",
    "        # x = self.relu(self.linear2(x))\n",
    "        x = self.linear3(x)\n",
    "        output = F.softmax(x, dim=-1)\n",
    "        return output\n",
    "\n",
    "class Critic(nn.Module):\n",
    "    def __init__(self, input_size, output_size):\n",
    "        super(Critic, self).__init__()\n",
    "        self.linear1 = nn.Linear(in_features=input_size, out_features=256)\n",
    "        # self.linear2 = nn.Linear(in_features=128, out_features=256)\n",
    "        self.linear3 = nn.Linear(in_features=256, out_features=output_size)\n",
    "        self.relu = nn.ReLU()\n",
    "        # torch.nn.init.xavier_uniform(self.linear1.weight)\n",
    "        # torch.nn.init.xavier_uniform(self.linear2.weight)\n",
    "        # torch.nn.init.xavier_uniform(self.linear3.weight)\n",
    "\n",
    "    def forward(self, x):\n",
    "        x = self.relu(self.linear1(x))\n",
    "        # x = self.relu(self.linear2(x))\n",
    "        output = self.linear3(x)\n",
    "        return output"
   ]
  },
  {
   "cell_type": "code",
   "execution_count": 16,
   "metadata": {},
   "outputs": [],
   "source": [
    "\n",
    "\n",
    "class ActorCritic():\n",
    "    def __init__(self, env, typ=\"dense\"):\n",
    "      self.env = env\n",
    "      self.typ = typ\n",
    "      self.max_episodes = 5000\n",
    "      self.max_steps = 400\n",
    "      self.gamma = 0.99\n",
    "      self.epsilon = 1.0\n",
    "      self.epsilon_min = 0.001\n",
    "      self.epsilon_decay_lamda = self.epsilon_min**(1/self.max_episodes)\n",
    "      self.target_update_counter = 0\n",
    "      self.target_update_frequency = 10\n",
    "      self.buffer_minibatch_size = 120\n",
    "      self.replay_buffer_capacity=5000\n",
    "      self.replay_buffer = deque([],maxlen=self.replay_buffer_capacity)\n",
    "\n",
    "      # _, _, self.state_screen_h, self.state_screen_w = self.screen_preprocessor(self.env.render()).shape\n",
    "      self.state_count = env.observation_space.shape[0]\n",
    "      self.action_count = env.action_space.n\n",
    "      self.actor = Actor(self.state_count, self.action_count)\n",
    "      self.critic = Critic(self.state_count, 1)#self.action_count) \n",
    "      # self.critic_av = Critic(self.state_count, self.action_count) \n",
    "      # self.rms_optimizer = optim.RMSprop(self.q_value_dqn.parameters())#, lr=0.001)#, weight_decay=0.05)\n",
    "      # self.loss_func = F.smooth_l1_loss\n",
    "      self.actor_optimizer = optim.Adam(self.actor.parameters(), lr=0.0005)#optim.RMSprop(self.q_value_dqn.parameters(), lr=0.001)#, weight_decay=0.05)\n",
    "      self.critic_optimizer = optim.Adam(self.critic.parameters(), lr=0.001)\n",
    "      self.loss_func = F.smooth_l1_loss\n",
    "      \n",
    "      self.timestep_list = []\n",
    "      self.rewards_list = []\n",
    "      self.epsilon_list = []\n",
    "      \n",
    "      self.device = torch.device(\"cuda\" if torch.cuda.is_available() else \"cpu\")\n",
    "\n",
    "      self.test_max_episodes = 10\n",
    "      self.test_timestep_list = []\n",
    "      self.test_rewards_list = []\n",
    "      self.test_epsilon_list = []\n",
    "      self.trained_policy_path = \"./actor.pth\"\n",
    "    \n",
    "    def choose_action(self, state, test=False):\n",
    "      if not test:\n",
    "          action_prob = self.actor(state)\n",
    "          actions_cat = Categorical(action_prob)\n",
    "\n",
    "          current_action = actions_cat.sample()\n",
    "          action_log_prob = actions_cat.log_prob(current_action)\n",
    "          return current_action, action_log_prob\n",
    "      else:\n",
    "          return self.get_q_value_for_state(state)#.to(self.device))\n",
    "    \n",
    "    def get_q_value_for_state(self, state):\n",
    "      q_values = self.actor(state)\n",
    "      return q_values.max(1)[1].view(1, 1)\n",
    "\n",
    "    def eval(self):\n",
    "      self.actor.load_state_dict(torch.load(self.trained_policy_path))\n",
    "\n",
    "      for episode in tqdm(range(0, self.test_max_episodes), unit='episodes'):\n",
    "        obs = self.env.reset()[0]\n",
    "        done = False\n",
    "        reward_sum = 0\n",
    "        steps = 0\n",
    "        current_state = torch.from_numpy(obs).unsqueeze(0) \n",
    "        while not done:\n",
    "          current_action = self.choose_action(current_state, test=True)#.to(self.device)\n",
    "          curr_obs, curr_reward, done, truncated, info = self.env.step(current_action.item())\n",
    "          self.env.render()\n",
    "          \n",
    "          reward_sum += curr_reward\n",
    "          next_state = torch.from_numpy(curr_obs).unsqueeze(0) \n",
    "\n",
    "          steps +=1\n",
    "          \n",
    "          current_state = next_state\n",
    "          if reward_sum==200:\n",
    "            done=True\n",
    "\n",
    "        self.test_timestep_list.append(steps)\n",
    "        self.test_rewards_list.append(reward_sum)\n",
    "\n",
    "\n",
    "    def train(self, current_state, reward, next_state, done, action_log_prob, I):\n",
    "      \n",
    "      current_state_val = self.critic(current_state)\n",
    "      next_state_val = self.critic(next_state) if not done else 0\n",
    "  \n",
    "      delta = reward + self.gamma*next_state_val - current_state_val\n",
    "      actor_loss = (-1*action_log_prob*delta.item()*I)\n",
    "      critic_loss = (delta**2)\n",
    "      # print(actor_loss, critic_loss)\n",
    "      self.actor_optimizer.zero_grad()\n",
    "      self.critic_optimizer.zero_grad()\n",
    "      \n",
    "      loss = actor_loss+critic_loss\n",
    "      # (actor_loss + critic_loss).backward()\n",
    "      actor_loss.backward()\n",
    "      critic_loss.backward()\n",
    "      # loss.backward()\n",
    "      for param in self.actor.parameters():\n",
    "          param.grad.data.clamp_(-5, 5)\n",
    "      for param in self.critic.parameters():\n",
    "          param.grad.data.clamp_(-5, 5)\n",
    "      \n",
    "      self.actor_optimizer.step()\n",
    "      self.critic_optimizer.step()\n",
    "\n",
    "      return actor_loss.item(), critic_loss.item()\n",
    "      \n",
    "    def learn(self):\n",
    "      \n",
    "      for episode in tqdm(range(0, self.max_episodes), unit='episodes'):\n",
    "        obs = self.env.reset()[0]\n",
    "        done = False\n",
    "        reward_sum = 0\n",
    "        steps = 0\n",
    "        a_running_loss=0\n",
    "        c_running_loss=0\n",
    "        I = 1\n",
    "        current_state = torch.from_numpy(obs).unsqueeze(0)\n",
    "        while not done:\n",
    "          current_action, action_log_prob = self.choose_action(current_state)\n",
    "\n",
    "          curr_obs, curr_reward, done, truncated, info = self.env.step(current_action.item())\n",
    "\n",
    "          reward_sum += curr_reward\n",
    "          \n",
    "          next_state = torch.from_numpy(curr_obs).unsqueeze(0) \n",
    "  \n",
    "          actor_loss, critic_loss = self.train(current_state, curr_reward, next_state, done, action_log_prob, I)\n",
    "          I = self.gamma*I\n",
    "          steps +=1\n",
    "          # print(actor_loss,critic_loss)\n",
    "          a_running_loss += actor_loss\n",
    "          c_running_loss += critic_loss\n",
    "          current_state = next_state\n",
    "\n",
    "          if steps==self.max_steps:# or reward_sum==470:\n",
    "            done=True\n",
    "\n",
    "        # self.update_target_net(episode)\n",
    "            \n",
    "        self.timestep_list.append(steps)\n",
    "        self.rewards_list.append(reward_sum)\n",
    "        self.epsilon_list.append(self.epsilon)\n",
    "        self.epsilon = max(0.01, self.epsilon*self.epsilon_decay_lamda)\n",
    "      \n",
    "        if episode % 100 == 99:\n",
    "          print(f'[Episode: {episode+1}] - Steps: {sum(self.timestep_list[-100:])/100} | Rewards: {sum(self.rewards_list[-100:])/100} | loss: {a_running_loss / 10:.3f}, {c_running_loss / 10:.3f}')\n",
    "          a_running_loss = 0.0\n",
    "          c_running_loss = 0.0\n",
    "          self.env.render()\n",
    "          if sum(self.rewards_list[-100:])/100 >= 200:\n",
    "            break\n",
    "          # p.print()\n",
    "        \n",
    "    def update_target_net(self, episode):\n",
    "       if episode % self.target_update_frequency == self.target_update_frequency-1:   \n",
    "          self.critic.load_state_dict(self.actor.state_dict())\n",
    "    \n",
    "    def get_minibatch_from_replay_buffer(self):\n",
    "      exp_batch = random.sample(self.replay_buffer, self.buffer_minibatch_size) #max(len(self.replay_buffer), self.buffer_minibatch_size))\n",
    "      current_state_batch = torch.cat(tuple([exp[0] for exp in exp_batch]),dim=0)\n",
    "      current_action_batch = torch.cat(tuple([exp[1] for exp in exp_batch]),dim=0)\n",
    "      next_state_batch = torch.cat(tuple([exp[3] for exp in exp_batch]),dim=0)\n",
    "      current_reward_batch = torch.tensor(tuple([exp[2] for exp in exp_batch]))#.to(self.device)\n",
    "      current_done_batch = torch.tensor(tuple([exp[4] for exp in exp_batch]))#.to(self.device)\n",
    "      return current_state_batch, current_action_batch, next_state_batch, current_reward_batch, current_done_batch\n",
    "    \n",
    "    def add_to_replay_buffer(self, experience):\n",
    "       self.replay_buffer.append(experience)\n",
    "\n"
   ]
  },
  {
   "cell_type": "code",
   "execution_count": 17,
   "metadata": {},
   "outputs": [
    {
     "name": "stderr",
     "output_type": "stream",
     "text": [
      "  2%|▏         | 100/5000 [01:50<1:11:09,  1.15episodes/s]"
     ]
    },
    {
     "name": "stdout",
     "output_type": "stream",
     "text": [
      "[Episode: 100] - Steps: 262.25 | Rewards: -105.30523338724943 | loss: -3.119, 2460.973\n"
     ]
    },
    {
     "name": "stderr",
     "output_type": "stream",
     "text": [
      "  4%|▍         | 200/5000 [03:57<2:13:04,  1.66s/episodes]"
     ]
    },
    {
     "name": "stdout",
     "output_type": "stream",
     "text": [
      "[Episode: 200] - Steps: 261.21 | Rewards: 1.566830040261073 | loss: 1.523, 63.511\n"
     ]
    },
    {
     "name": "stderr",
     "output_type": "stream",
     "text": [
      "  6%|▌         | 300/5000 [05:34<2:13:55,  1.71s/episodes]"
     ]
    },
    {
     "name": "stdout",
     "output_type": "stream",
     "text": [
      "[Episode: 300] - Steps: 228.96 | Rewards: -13.574557509866102 | loss: -0.084, 70.685\n"
     ]
    },
    {
     "name": "stderr",
     "output_type": "stream",
     "text": [
      "  8%|▊         | 400/5000 [07:11<1:15:44,  1.01episodes/s]"
     ]
    },
    {
     "name": "stdout",
     "output_type": "stream",
     "text": [
      "[Episode: 400] - Steps: 214.83 | Rewards: -12.506162310516887 | loss: -0.327, 101.519\n"
     ]
    },
    {
     "name": "stderr",
     "output_type": "stream",
     "text": [
      " 10%|█         | 500/5000 [09:32<2:43:32,  2.18s/episodes]"
     ]
    },
    {
     "name": "stdout",
     "output_type": "stream",
     "text": [
      "[Episode: 500] - Steps: 256.13 | Rewards: 39.99246076454126 | loss: -0.066, 18.218\n"
     ]
    },
    {
     "name": "stderr",
     "output_type": "stream",
     "text": [
      " 12%|█▏        | 600/5000 [11:25<2:15:16,  1.84s/episodes]"
     ]
    },
    {
     "name": "stdout",
     "output_type": "stream",
     "text": [
      "[Episode: 600] - Steps: 272.07 | Rewards: 95.6555034500121 | loss: 0.412, 20.613\n"
     ]
    },
    {
     "name": "stderr",
     "output_type": "stream",
     "text": [
      " 14%|█▍        | 700/5000 [14:30<1:36:03,  1.34s/episodes]"
     ]
    },
    {
     "name": "stdout",
     "output_type": "stream",
     "text": [
      "[Episode: 700] - Steps: 262.64 | Rewards: 50.762435279980835 | loss: 0.017, 6462.000\n"
     ]
    },
    {
     "name": "stderr",
     "output_type": "stream",
     "text": [
      " 16%|█▌        | 800/5000 [16:47<1:28:01,  1.26s/episodes]"
     ]
    },
    {
     "name": "stdout",
     "output_type": "stream",
     "text": [
      "[Episode: 800] - Steps: 240.35 | Rewards: 60.929599670670996 | loss: 1.581, 44.481\n"
     ]
    },
    {
     "name": "stderr",
     "output_type": "stream",
     "text": [
      " 18%|█▊        | 900/5000 [18:43<1:16:27,  1.12s/episodes]"
     ]
    },
    {
     "name": "stdout",
     "output_type": "stream",
     "text": [
      "[Episode: 900] - Steps: 256.43 | Rewards: 58.00058951330772 | loss: -0.490, 2659.370\n"
     ]
    },
    {
     "name": "stderr",
     "output_type": "stream",
     "text": [
      " 20%|██        | 1000/5000 [20:24<1:48:56,  1.63s/episodes]"
     ]
    },
    {
     "name": "stdout",
     "output_type": "stream",
     "text": [
      "[Episode: 1000] - Steps: 207.64 | Rewards: 39.90869882152944 | loss: -0.264, 12.032\n"
     ]
    },
    {
     "name": "stderr",
     "output_type": "stream",
     "text": [
      " 22%|██▏       | 1100/5000 [22:38<42:23,  1.53episodes/s]  "
     ]
    },
    {
     "name": "stdout",
     "output_type": "stream",
     "text": [
      "[Episode: 1100] - Steps: 265.64 | Rewards: 100.26777977349848 | loss: -0.848, 1055.563\n"
     ]
    },
    {
     "name": "stderr",
     "output_type": "stream",
     "text": [
      " 24%|██▍       | 1200/5000 [24:02<1:29:28,  1.41s/episodes]"
     ]
    },
    {
     "name": "stdout",
     "output_type": "stream",
     "text": [
      "[Episode: 1200] - Steps: 223.03 | Rewards: 26.759028685064692 | loss: 0.047, 7714.145\n"
     ]
    },
    {
     "name": "stderr",
     "output_type": "stream",
     "text": [
      " 26%|██▌       | 1300/5000 [25:44<1:49:50,  1.78s/episodes]"
     ]
    },
    {
     "name": "stdout",
     "output_type": "stream",
     "text": [
      "[Episode: 1300] - Steps: 178.67 | Rewards: 29.294462467525214 | loss: -0.555, 1645.463\n"
     ]
    },
    {
     "name": "stderr",
     "output_type": "stream",
     "text": [
      " 28%|██▊       | 1400/5000 [27:23<1:02:36,  1.04s/episodes]"
     ]
    },
    {
     "name": "stdout",
     "output_type": "stream",
     "text": [
      "[Episode: 1400] - Steps: 195.34 | Rewards: 43.29022689215842 | loss: 0.815, 59.721\n"
     ]
    },
    {
     "name": "stderr",
     "output_type": "stream",
     "text": [
      " 30%|███       | 1500/5000 [29:45<48:17,  1.21episodes/s]  "
     ]
    },
    {
     "name": "stdout",
     "output_type": "stream",
     "text": [
      "[Episode: 1500] - Steps: 230.58 | Rewards: 69.54803022547827 | loss: -0.060, 745.381\n"
     ]
    },
    {
     "name": "stderr",
     "output_type": "stream",
     "text": [
      " 32%|███▏      | 1600/5000 [30:44<54:29,  1.04episodes/s]  "
     ]
    },
    {
     "name": "stdout",
     "output_type": "stream",
     "text": [
      "[Episode: 1600] - Steps: 167.98 | Rewards: 19.972761080438207 | loss: 1.779, 89.650\n"
     ]
    },
    {
     "name": "stderr",
     "output_type": "stream",
     "text": [
      " 34%|███▍      | 1700/5000 [31:36<13:45,  4.00episodes/s]"
     ]
    },
    {
     "name": "stdout",
     "output_type": "stream",
     "text": [
      "[Episode: 1700] - Steps: 180.58 | Rewards: 37.52486580726427 | loss: -0.145, 913.685\n"
     ]
    },
    {
     "name": "stderr",
     "output_type": "stream",
     "text": [
      " 36%|███▌      | 1800/5000 [32:47<1:32:34,  1.74s/episodes]"
     ]
    },
    {
     "name": "stdout",
     "output_type": "stream",
     "text": [
      "[Episode: 1800] - Steps: 163.88 | Rewards: 17.734305206224995 | loss: 0.327, 38.826\n"
     ]
    },
    {
     "name": "stderr",
     "output_type": "stream",
     "text": [
      " 38%|███▊      | 1900/5000 [34:35<45:58,  1.12episodes/s]  "
     ]
    },
    {
     "name": "stdout",
     "output_type": "stream",
     "text": [
      "[Episode: 1900] - Steps: 192.01 | Rewards: 45.70950159380549 | loss: -0.021, 1253.667\n"
     ]
    },
    {
     "name": "stderr",
     "output_type": "stream",
     "text": [
      " 40%|████      | 2000/5000 [36:05<37:57,  1.32episodes/s]  "
     ]
    },
    {
     "name": "stdout",
     "output_type": "stream",
     "text": [
      "[Episode: 2000] - Steps: 167.27 | Rewards: 38.32888273402896 | loss: -0.032, 1537.128\n"
     ]
    },
    {
     "name": "stderr",
     "output_type": "stream",
     "text": [
      " 42%|████▏     | 2100/5000 [38:11<53:07,  1.10s/episodes]  "
     ]
    },
    {
     "name": "stdout",
     "output_type": "stream",
     "text": [
      "[Episode: 2100] - Steps: 199.93 | Rewards: 30.1985435861702 | loss: 2.220, 70.210\n"
     ]
    },
    {
     "name": "stderr",
     "output_type": "stream",
     "text": [
      " 44%|████▍     | 2200/5000 [39:31<1:04:00,  1.37s/episodes]"
     ]
    },
    {
     "name": "stdout",
     "output_type": "stream",
     "text": [
      "[Episode: 2200] - Steps: 137.47 | Rewards: -20.05399745158185 | loss: -0.672, 5972.085\n"
     ]
    },
    {
     "name": "stderr",
     "output_type": "stream",
     "text": [
      " 46%|████▌     | 2300/5000 [41:34<1:26:53,  1.93s/episodes]"
     ]
    },
    {
     "name": "stdout",
     "output_type": "stream",
     "text": [
      "[Episode: 2300] - Steps: 150.17 | Rewards: 17.27008599771974 | loss: -0.116, 1794.087\n"
     ]
    },
    {
     "name": "stderr",
     "output_type": "stream",
     "text": [
      " 48%|████▊     | 2400/5000 [43:29<23:41,  1.83episodes/s]  "
     ]
    },
    {
     "name": "stdout",
     "output_type": "stream",
     "text": [
      "[Episode: 2400] - Steps: 158.17 | Rewards: 14.90884490898299 | loss: -3.408, 855.731\n"
     ]
    },
    {
     "name": "stderr",
     "output_type": "stream",
     "text": [
      " 50%|█████     | 2500/5000 [45:34<44:59,  1.08s/episodes]  "
     ]
    },
    {
     "name": "stdout",
     "output_type": "stream",
     "text": [
      "[Episode: 2500] - Steps: 177.05 | Rewards: 3.087248852224113 | loss: -0.282, 5800.955\n"
     ]
    },
    {
     "name": "stderr",
     "output_type": "stream",
     "text": [
      " 52%|█████▏    | 2600/5000 [47:10<39:20,  1.02episodes/s]  "
     ]
    },
    {
     "name": "stdout",
     "output_type": "stream",
     "text": [
      "[Episode: 2600] - Steps: 152.03 | Rewards: 5.14092133921179 | loss: -0.651, 693.542\n"
     ]
    },
    {
     "name": "stderr",
     "output_type": "stream",
     "text": [
      " 54%|█████▍    | 2700/5000 [48:34<26:52,  1.43episodes/s]  "
     ]
    },
    {
     "name": "stdout",
     "output_type": "stream",
     "text": [
      "[Episode: 2700] - Steps: 135.68 | Rewards: -10.974415171433714 | loss: 0.388, 2631.597\n"
     ]
    },
    {
     "name": "stderr",
     "output_type": "stream",
     "text": [
      " 56%|█████▌    | 2800/5000 [50:06<50:53,  1.39s/episodes]  "
     ]
    },
    {
     "name": "stdout",
     "output_type": "stream",
     "text": [
      "[Episode: 2800] - Steps: 140.81 | Rewards: -19.768759205026583 | loss: -0.030, 732.073\n"
     ]
    },
    {
     "name": "stderr",
     "output_type": "stream",
     "text": [
      " 58%|█████▊    | 2900/5000 [51:19<22:25,  1.56episodes/s]"
     ]
    },
    {
     "name": "stdout",
     "output_type": "stream",
     "text": [
      "[Episode: 2900] - Steps: 113.88 | Rewards: -40.65196976717283 | loss: -1.695, 348.777\n"
     ]
    },
    {
     "name": "stderr",
     "output_type": "stream",
     "text": [
      " 60%|██████    | 3000/5000 [52:23<22:23,  1.49episodes/s]"
     ]
    },
    {
     "name": "stdout",
     "output_type": "stream",
     "text": [
      "[Episode: 3000] - Steps: 127.37 | Rewards: -15.800310662309975 | loss: -0.806, 614.221\n"
     ]
    },
    {
     "name": "stderr",
     "output_type": "stream",
     "text": [
      " 62%|██████▏   | 3100/5000 [53:33<17:25,  1.82episodes/s]"
     ]
    },
    {
     "name": "stdout",
     "output_type": "stream",
     "text": [
      "[Episode: 3100] - Steps: 137.46 | Rewards: -9.73548475876131 | loss: -0.703, 109.779\n"
     ]
    },
    {
     "name": "stderr",
     "output_type": "stream",
     "text": [
      " 64%|██████▍   | 3200/5000 [54:25<13:07,  2.29episodes/s]"
     ]
    },
    {
     "name": "stdout",
     "output_type": "stream",
     "text": [
      "[Episode: 3200] - Steps: 108.39 | Rewards: -28.788932520936886 | loss: -0.093, 33.264\n"
     ]
    },
    {
     "name": "stderr",
     "output_type": "stream",
     "text": [
      " 66%|██████▌   | 3300/5000 [55:48<18:23,  1.54episodes/s]  "
     ]
    },
    {
     "name": "stdout",
     "output_type": "stream",
     "text": [
      "[Episode: 3300] - Steps: 104.11 | Rewards: -31.734686506583326 | loss: 0.096, 33.150\n"
     ]
    },
    {
     "name": "stderr",
     "output_type": "stream",
     "text": [
      " 68%|██████▊   | 3400/5000 [56:46<08:33,  3.12episodes/s]"
     ]
    },
    {
     "name": "stdout",
     "output_type": "stream",
     "text": [
      "[Episode: 3400] - Steps: 100.45 | Rewards: -18.796824745989266 | loss: -0.066, 7.020\n"
     ]
    },
    {
     "name": "stderr",
     "output_type": "stream",
     "text": [
      " 70%|███████   | 3500/5000 [57:20<07:52,  3.17episodes/s]"
     ]
    },
    {
     "name": "stdout",
     "output_type": "stream",
     "text": [
      "[Episode: 3500] - Steps: 88.21 | Rewards: -44.71113399556425 | loss: 1.146, 4.730\n"
     ]
    },
    {
     "name": "stderr",
     "output_type": "stream",
     "text": [
      " 72%|███████▏  | 3600/5000 [58:02<08:23,  2.78episodes/s]"
     ]
    },
    {
     "name": "stdout",
     "output_type": "stream",
     "text": [
      "[Episode: 3600] - Steps: 98.23 | Rewards: -52.968129817764705 | loss: -0.299, 151.263\n"
     ]
    },
    {
     "name": "stderr",
     "output_type": "stream",
     "text": [
      " 74%|███████▍  | 3700/5000 [58:47<17:20,  1.25episodes/s]"
     ]
    },
    {
     "name": "stdout",
     "output_type": "stream",
     "text": [
      "[Episode: 3700] - Steps: 103.45 | Rewards: -43.077440280181605 | loss: 0.111, 579.937\n"
     ]
    },
    {
     "name": "stderr",
     "output_type": "stream",
     "text": [
      " 76%|███████▌  | 3800/5000 [59:38<07:12,  2.77episodes/s]"
     ]
    },
    {
     "name": "stdout",
     "output_type": "stream",
     "text": [
      "[Episode: 3800] - Steps: 101.72 | Rewards: -54.93470886746309 | loss: -0.071, 371.438\n"
     ]
    },
    {
     "name": "stderr",
     "output_type": "stream",
     "text": [
      " 78%|███████▊  | 3900/5000 [1:00:21<07:08,  2.57episodes/s]"
     ]
    },
    {
     "name": "stdout",
     "output_type": "stream",
     "text": [
      "[Episode: 3900] - Steps: 115.98 | Rewards: -64.22269868088216 | loss: -1.484, 76.265\n"
     ]
    },
    {
     "name": "stderr",
     "output_type": "stream",
     "text": [
      " 80%|████████  | 4000/5000 [1:01:24<07:59,  2.09episodes/s]"
     ]
    },
    {
     "name": "stdout",
     "output_type": "stream",
     "text": [
      "[Episode: 4000] - Steps: 140.81 | Rewards: -66.7446834528129 | loss: -0.726, 302.181\n"
     ]
    },
    {
     "name": "stderr",
     "output_type": "stream",
     "text": [
      " 82%|████████▏ | 4100/5000 [1:02:16<04:13,  3.55episodes/s]"
     ]
    },
    {
     "name": "stdout",
     "output_type": "stream",
     "text": [
      "[Episode: 4100] - Steps: 128.34 | Rewards: -52.3885593547952 | loss: -0.241, 620.570\n"
     ]
    },
    {
     "name": "stderr",
     "output_type": "stream",
     "text": [
      " 84%|████████▍ | 4200/5000 [1:03:01<09:38,  1.38episodes/s]"
     ]
    },
    {
     "name": "stdout",
     "output_type": "stream",
     "text": [
      "[Episode: 4200] - Steps: 144.97 | Rewards: -64.16604141338419 | loss: 0.671, 13.021\n"
     ]
    },
    {
     "name": "stderr",
     "output_type": "stream",
     "text": [
      " 86%|████████▌ | 4300/5000 [1:03:39<03:27,  3.38episodes/s]"
     ]
    },
    {
     "name": "stdout",
     "output_type": "stream",
     "text": [
      "[Episode: 4300] - Steps: 128.85 | Rewards: -65.51744400594933 | loss: -0.085, 135.032\n"
     ]
    },
    {
     "name": "stderr",
     "output_type": "stream",
     "text": [
      " 88%|████████▊ | 4400/5000 [1:04:33<03:22,  2.96episodes/s]"
     ]
    },
    {
     "name": "stdout",
     "output_type": "stream",
     "text": [
      "[Episode: 4400] - Steps: 148.73 | Rewards: -42.44404071683877 | loss: -0.082, 5737.883\n"
     ]
    },
    {
     "name": "stderr",
     "output_type": "stream",
     "text": [
      " 90%|█████████ | 4501/5000 [1:05:13<02:15,  3.70episodes/s]"
     ]
    },
    {
     "name": "stdout",
     "output_type": "stream",
     "text": [
      "[Episode: 4500] - Steps: 131.49 | Rewards: -36.60153026202696 | loss: -0.686, 1146.331\n"
     ]
    },
    {
     "name": "stderr",
     "output_type": "stream",
     "text": [
      " 92%|█████████▏| 4600/5000 [1:05:59<04:46,  1.39episodes/s]"
     ]
    },
    {
     "name": "stdout",
     "output_type": "stream",
     "text": [
      "[Episode: 4600] - Steps: 148.94 | Rewards: -9.320785214570959 | loss: -1.584, 4826.297\n"
     ]
    },
    {
     "name": "stderr",
     "output_type": "stream",
     "text": [
      " 94%|█████████▍| 4700/5000 [1:06:52<04:31,  1.10episodes/s]"
     ]
    },
    {
     "name": "stdout",
     "output_type": "stream",
     "text": [
      "[Episode: 4700] - Steps: 162.87 | Rewards: -13.937246296704457 | loss: 0.328, 19.475\n"
     ]
    },
    {
     "name": "stderr",
     "output_type": "stream",
     "text": [
      " 96%|█████████▌| 4800/5000 [1:07:43<00:53,  3.75episodes/s]"
     ]
    },
    {
     "name": "stdout",
     "output_type": "stream",
     "text": [
      "[Episode: 4800] - Steps: 160.97 | Rewards: -10.632590374750169 | loss: 0.391, 2071.780\n"
     ]
    },
    {
     "name": "stderr",
     "output_type": "stream",
     "text": [
      " 98%|█████████▊| 4900/5000 [1:08:46<00:29,  3.38episodes/s]"
     ]
    },
    {
     "name": "stdout",
     "output_type": "stream",
     "text": [
      "[Episode: 4900] - Steps: 148.32 | Rewards: -26.154261718099274 | loss: 0.687, 1425.700\n"
     ]
    },
    {
     "name": "stderr",
     "output_type": "stream",
     "text": [
      "100%|██████████| 5000/5000 [1:09:47<00:00,  1.19episodes/s]"
     ]
    },
    {
     "name": "stdout",
     "output_type": "stream",
     "text": [
      "[Episode: 5000] - Steps: 169.34 | Rewards: -18.3938189307371 | loss: -0.481, 7.086\n"
     ]
    },
    {
     "name": "stderr",
     "output_type": "stream",
     "text": [
      "\n"
     ]
    }
   ],
   "source": [
    "env = gym.make('LunarLander-v2', render_mode=\"rgb_array\")\n",
    "env.reset()\n",
    "agent = ActorCritic(env)\n",
    "agent.learn()"
   ]
  },
  {
   "cell_type": "code",
   "execution_count": 20,
   "metadata": {},
   "outputs": [],
   "source": [
    "PATH = './actor.pth'\n",
    "torch.save(agent.actor.state_dict(), PATH)"
   ]
  },
  {
   "cell_type": "code",
   "execution_count": 22,
   "metadata": {},
   "outputs": [],
   "source": [
    "PATH = './critic.pth'\n",
    "torch.save(agent.critic.state_dict(), PATH)"
   ]
  },
  {
   "cell_type": "code",
   "execution_count": 18,
   "metadata": {},
   "outputs": [],
   "source": [
    "epsilon_list_train_dqn = agent.epsilon_list\n",
    "reward_list_train_dqn = agent.rewards_list"
   ]
  },
  {
   "cell_type": "code",
   "execution_count": 9,
   "metadata": {},
   "outputs": [],
   "source": [
    "rewardSD_train_dqn_avg = []\n",
    "for s in np.split(np.array(reward_list_train_dqn), 50):\n",
    "    rewardSD_train_dqn_avg.append((sum(s)/len(s)))\n"
   ]
  },
  {
   "cell_type": "code",
   "execution_count": 10,
   "metadata": {},
   "outputs": [
    {
     "data": {
      "image/png": "[encoded data removed]",
      "text/plain": [
       "<Figure size 1500x1000 with 1 Axes>"
      ]
     },
     "metadata": {},
     "output_type": "display_data"
    }
   ],
   "source": [
    "fig, ax2 = plt.subplots()\n",
    "fig.set_figheight(10)\n",
    "fig.set_figwidth(15)\n",
    "plt.tick_params(axis='both', which='major', labelsize=20)\n",
    "ax2.plot(rewardSD_train_dqn_avg, 'g-')\n",
    "ax2.set_title(\"Average Reward vs Avg Epsilon\", size=40)\n",
    "ax2.set_xlabel('Per 100 Episode', fontsize=30)\n",
    "ax2.set_ylabel('Avg Epsilon', color='b', fontsize=30)\n",
    "ax2.set_ylabel('Avg Reward', color='g', fontsize=30)\n",
    "plt.show()"
   ]
  },
  {
   "cell_type": "code",
   "execution_count": null,
   "metadata": {},
   "outputs": [],
   "source": [
    "import json\n",
    "with open('reward.json', 'w') as f:\n",
    "    json.dump(reward_list_train_dqn, f)\n",
    "\n",
    "# import json\n",
    "# with open('backup/epsilon.json') as f:\n",
    "#     epsilon_list_train_dqn = json.load(f)"
   ]
  },
  {
   "cell_type": "code",
   "execution_count": 38,
   "metadata": {},
   "outputs": [
    {
     "name": "stderr",
     "output_type": "stream",
     "text": [
      "100%|██████████| 10/10 [00:30<00:00,  3.06s/episodes]\n"
     ]
    }
   ],
   "source": [
    "env = gym.make('LunarLander-v2', render_mode=\"rgb_array\")\n",
    "env.reset()\n",
    "agent_test = ActorCritic(env)\n",
    "agent_test.eval()"
   ]
  },
  {
   "cell_type": "code",
   "execution_count": 39,
   "metadata": {},
   "outputs": [],
   "source": [
    "reward_list_test_dqn = agent_test.test_rewards_list"
   ]
  },
  {
   "cell_type": "code",
   "execution_count": 40,
   "metadata": {},
   "outputs": [
    {
     "data": {
      "image/png": "[encoded data removed]",
      "text/plain": [
       "<Figure size 640x480 with 1 Axes>"
      ]
     },
     "metadata": {},
     "output_type": "display_data"
    }
   ],
   "source": [
    "fig, (ax2) = plt.subplots(1,1)\n",
    "# fig.set_figheight(50)\n",
    "# fig.set_figwidth(50)\n",
    "# ax1.plot(epsilon_list_train_dqn, 'go')\n",
    "# ax1.set_title(\"Epsilon Decay\", size=40)\n",
    "# ax1.set_ylabel('Epsilon Value', fontsize = 30) \n",
    "# ax1.set_xlabel('Episode', fontsize = 30)\n",
    "# ax1.tick_params(axis='x', labelsize=20)\n",
    "# ax1.tick_params(axis='y', labelsize=20)\n",
    "# ax1.set_xlim(100)\n",
    "# ax1.set_xlim(xmin=0, xmax=3800)\n",
    "# ax1.set_ylim(ymin=0, ymax=1)\n",
    "ax2.plot(reward_list_test_dqn, 'b-')\n",
    "ax2.set_title(f\"Reward Per Episode\", size=40)\n",
    "ax2.set_ylabel('Reward', fontsize = 30) \n",
    "ax2.set_xlabel('Episode', fontsize = 30)\n",
    "ax2.tick_params(axis='x', labelsize=20)\n",
    "ax2.tick_params(axis='y', labelsize=20)\n",
    "ax2.set_xlim(xmin=0, xmax=9)\n",
    "ax2.set_ylim(ymin=-300, ymax=300)\n",
    "plt.show()"
   ]
  }
 ],
 "metadata": {
  "kernelspec": {
   "display_name": "Python 3",
   "language": "python",
   "name": "python3"
  },
  "language_info": {
   "codemirror_mode": {
    "name": "ipython",
    "version": 3
   },
   "file_extension": ".py",
   "mimetype": "text/x-python",
   "name": "python",
   "nbconvert_exporter": "python",
   "pygments_lexer": "ipython3",
   "version": "3.7.0 (v3.7.0:1bf9cc5093, Jun 26 2018, 23:26:24) \n[Clang 6.0 (clang-600.0.57)]"
  },
  "orig_nbformat": 4,
  "vscode": {
   "interpreter": {
    "hash": "aee8b7b246df8f9039afb4144a1f6fd8d2ca17a180786b69acc140d282b71a49"
   }
  }
 },
 "nbformat": 4,
 "nbformat_minor": 2
}
